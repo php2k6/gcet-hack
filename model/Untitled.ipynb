{
 "cells": [
  {
   "cell_type": "code",
   "execution_count": 7,
   "id": "c3c86644-22e7-4ad7-a5b8-969cbacea679",
   "metadata": {},
   "outputs": [
    {
     "name": "stdout",
     "output_type": "stream",
     "text": [
      "✅ Cleaned CSV saved as 'cleaned.csv'\n"
     ]
    }
   ],
   "source": [
    "import pandas as pd\n",
    "\n",
    "# Load the CSV file\n",
    "df = pd.read_csv(\"complain_datasets.csv\")\n",
    "\n",
    "# Keep only the required columns (adjust names if needed)\n",
    "df = df[[\"Description\", \"Type\"]]\n",
    "df[\"Type\"] = df[\"Type\"].astype(int)\n",
    "# Save back to a new CSV\n",
    "df.to_csv(\"complain_datasets.csv\", index=False)\n",
    "print(\"✅ Cleaned CSV saved as 'cleaned.csv'\")\n"
   ]
  },
  {
   "cell_type": "code",
   "execution_count": 1,
   "id": "748d89cd-c384-46ae-b88d-93e4bc4e0608",
   "metadata": {},
   "outputs": [
    {
     "name": "stdout",
     "output_type": "stream",
     "text": [
      "Total rows: 2004\n",
      "\n",
      "Counts per label:\n",
      " label\n",
      "0       523\n",
      "1       498\n",
      "2       496\n",
      "3       486\n",
      "type      1\n",
      "Name: count, dtype: int64\n",
      "\n",
      "Word Count Stats Overall:\n",
      " count    2004.000000\n",
      "mean       49.290419\n",
      "std        25.362898\n",
      "min         1.000000\n",
      "25%        27.000000\n",
      "50%        57.000000\n",
      "75%        70.000000\n",
      "max       103.000000\n",
      "Name: word_count, dtype: float64\n",
      "\n",
      "Word Count Stats Per Label:\n",
      "        count       mean        std  min   25%   50%    75%    max\n",
      "label                                                            \n",
      "0      523.0  49.191205  25.204865  6.0  23.5  59.0  70.00   94.0\n",
      "1      498.0  49.588353  26.509427  6.0  23.0  61.0  74.00   93.0\n",
      "2      496.0  54.397177  24.256073  6.0  36.0  63.0  73.25  103.0\n",
      "3      486.0  43.979424  24.340192  5.0  17.0  49.0  61.00   97.0\n",
      "type     1.0   1.000000        NaN  1.0   1.0   1.0   1.00    1.0\n",
      "\n",
      "Sample cleaned rows:\n",
      "                                                text label  word_count\n",
      "0  There's a huge pothole right in the middle of ...     0          46\n",
      "1  The garbage collection vehicle has not come to...     1          45\n",
      "2  We are experiencing frequent and unscheduled p...     3          39\n",
      "3  The children's play area in the local communit...     2          41\n",
      "4  The traffic signal at the crossing of Nehru Ro...     0          36\n"
     ]
    }
   ],
   "source": [
    "import pandas as pd\n",
    "\n",
    "# Load dataset\n",
    "df = pd.read_csv(\"dataset.csv\")\n",
    "\n",
    "# Ensure consistent column names\n",
    "df = df.rename(columns={\"description\": \"text\", \"category\": \"label\"})\n",
    "\n",
    "# --- Clean text column ---\n",
    "df['text'] = df['text'].astype(str).str.strip('\"').str.strip(\"'\").str.strip()\n",
    "\n",
    "# --- Word count after cleaning ---\n",
    "df['word_count'] = df['text'].apply(lambda x: len(x.split()))\n",
    "\n",
    "# --- Analysis ---\n",
    "print(\"Total rows:\", len(df))\n",
    "print(\"\\nCounts per label:\\n\", df['label'].value_counts().sort_index())\n",
    "print(\"\\nWord Count Stats Overall:\\n\", df['word_count'].describe())\n",
    "print(\"\\nWord Count Stats Per Label:\\n\", df.groupby('label')['word_count'].describe())\n",
    "\n",
    "# --- Preview cleaned data ---\n",
    "print(\"\\nSample cleaned rows:\")\n",
    "print(df[['text', 'label', 'word_count']].head())\n"
   ]
  },
  {
   "cell_type": "code",
   "execution_count": 2,
   "id": "eb1b91d1-5fc1-4f63-92d6-e90d1be9fb7a",
   "metadata": {},
   "outputs": [],
   "source": [
    "df.to_csv(\"dataset_cleaned.csv\", index=False)"
   ]
  },
  {
   "cell_type": "code",
   "execution_count": 3,
   "id": "47772d88-c5c3-443f-b441-08d96385aa56",
   "metadata": {},
   "outputs": [
    {
     "name": "stdout",
     "output_type": "stream",
     "text": [
      "NaN counts per column:\n",
      " text          0\n",
      "label         0\n",
      "word_count    0\n",
      "dtype: int64\n",
      "\n",
      "Total NaN values in dataset: 0\n",
      "\n",
      "Rows with NaNs (first 5 rows):\n",
      "Empty DataFrame\n",
      "Columns: [text, label, word_count]\n",
      "Index: []\n"
     ]
    }
   ],
   "source": [
    "import pandas as pd\n",
    "\n",
    "# Load cleaned dataset\n",
    "df = pd.read_csv(\"dataset_cleaned.csv\")\n",
    "\n",
    "# Total NaNs in each column\n",
    "nan_counts = df.isna().sum()\n",
    "print(\"NaN counts per column:\\n\", nan_counts)\n",
    "\n",
    "# Total NaNs in entire dataset\n",
    "total_nans = df.isna().sum().sum()\n",
    "print(\"\\nTotal NaN values in dataset:\", total_nans)\n",
    "\n",
    "# Optional: show rows with any NaNs\n",
    "rows_with_nans = df[df.isna().any(axis=1)]\n",
    "print(\"\\nRows with NaNs (first 5 rows):\")\n",
    "print(rows_with_nans.head())\n"
   ]
  },
  {
   "cell_type": "code",
   "execution_count": 1,
   "id": "817e2ab9-3ad0-44b8-8fdb-a267e66e25c0",
   "metadata": {},
   "outputs": [
    {
     "data": {
      "text/html": [
       "<div>\n",
       "<style scoped>\n",
       "    .dataframe tbody tr th:only-of-type {\n",
       "        vertical-align: middle;\n",
       "    }\n",
       "\n",
       "    .dataframe tbody tr th {\n",
       "        vertical-align: top;\n",
       "    }\n",
       "\n",
       "    .dataframe thead th {\n",
       "        text-align: right;\n",
       "    }\n",
       "</style>\n",
       "<table border=\"1\" class=\"dataframe\">\n",
       "  <thead>\n",
       "    <tr style=\"text-align: right;\">\n",
       "      <th></th>\n",
       "      <th>text</th>\n",
       "      <th>label</th>\n",
       "      <th>word_count</th>\n",
       "    </tr>\n",
       "  </thead>\n",
       "  <tbody>\n",
       "    <tr>\n",
       "      <th>0</th>\n",
       "      <td>There's a huge pothole right in the middle of ...</td>\n",
       "      <td>0</td>\n",
       "      <td>46</td>\n",
       "    </tr>\n",
       "    <tr>\n",
       "      <th>1</th>\n",
       "      <td>The garbage collection vehicle has not come to...</td>\n",
       "      <td>1</td>\n",
       "      <td>45</td>\n",
       "    </tr>\n",
       "    <tr>\n",
       "      <th>2</th>\n",
       "      <td>We are experiencing frequent and unscheduled p...</td>\n",
       "      <td>3</td>\n",
       "      <td>39</td>\n",
       "    </tr>\n",
       "    <tr>\n",
       "      <th>3</th>\n",
       "      <td>The children's play area in the local communit...</td>\n",
       "      <td>2</td>\n",
       "      <td>41</td>\n",
       "    </tr>\n",
       "    <tr>\n",
       "      <th>4</th>\n",
       "      <td>The traffic signal at the crossing of Nehru Ro...</td>\n",
       "      <td>0</td>\n",
       "      <td>36</td>\n",
       "    </tr>\n",
       "  </tbody>\n",
       "</table>\n",
       "</div>"
      ],
      "text/plain": [
       "                                                text label  word_count\n",
       "0  There's a huge pothole right in the middle of ...     0          46\n",
       "1  The garbage collection vehicle has not come to...     1          45\n",
       "2  We are experiencing frequent and unscheduled p...     3          39\n",
       "3  The children's play area in the local communit...     2          41\n",
       "4  The traffic signal at the crossing of Nehru Ro...     0          36"
      ]
     },
     "execution_count": 1,
     "metadata": {},
     "output_type": "execute_result"
    }
   ],
   "source": [
    "import pandas as pd\n",
    "df = pd.read_csv(\"dataset_cleaned.csv\")\n",
    "df.head()"
   ]
  },
  {
   "cell_type": "code",
   "execution_count": 2,
   "id": "615b5b2a",
   "metadata": {},
   "outputs": [],
   "source": [
    "df['text'] = df['text'].astype(str).str.strip('\"').str.strip(\"'\").str.strip()"
   ]
  },
  {
   "cell_type": "code",
   "execution_count": null,
   "id": "5c3c34b7",
   "metadata": {},
   "outputs": [],
   "source": []
  }
 ],
 "metadata": {
  "kernelspec": {
   "display_name": "venv",
   "language": "python",
   "name": "python3"
  },
  "language_info": {
   "codemirror_mode": {
    "name": "ipython",
    "version": 3
   },
   "file_extension": ".py",
   "mimetype": "text/x-python",
   "name": "python",
   "nbconvert_exporter": "python",
   "pygments_lexer": "ipython3",
   "version": "3.13.3"
  }
 },
 "nbformat": 4,
 "nbformat_minor": 5
}
