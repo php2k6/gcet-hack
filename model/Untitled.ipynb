{
 "cells": [
  {
   "cell_type": "code",
   "execution_count": 7,
   "id": "c3c86644-22e7-4ad7-a5b8-969cbacea679",
   "metadata": {},
   "outputs": [
    {
     "name": "stdout",
     "output_type": "stream",
     "text": [
      "✅ Cleaned CSV saved as 'cleaned.csv'\n"
     ]
    }
   ],
   "source": [
    "import pandas as pd\n",
    "\n",
    "# Load the CSV file\n",
    "df = pd.read_csv(\"complain_datasets.csv\")\n",
    "\n",
    "# Keep only the required columns (adjust names if needed)\n",
    "df = df[[\"Description\", \"Type\"]]\n",
    "df[\"Type\"] = df[\"Type\"].astype(int)\n",
    "# Save back to a new CSV\n",
    "df.to_csv(\"complain_datasets.csv\", index=False)\n",
    "print(\"✅ Cleaned CSV saved as 'cleaned.csv'\")\n"
   ]
  },
  {
   "cell_type": "code",
   "execution_count": 25,
   "id": "748d89cd-c384-46ae-b88d-93e4bc4e0608",
   "metadata": {},
   "outputs": [
    {
     "name": "stdout",
     "output_type": "stream",
     "text": [
      "Total rows: 1600\n",
      "\n",
      "Counts per label:\n",
      " label\n",
      "0    427\n",
      "1    391\n",
      "2    396\n",
      "3    386\n",
      "Name: count, dtype: int64\n",
      "\n",
      "Word Count Stats Overall:\n",
      " count    1600.000000\n",
      "mean       43.808125\n",
      "std        25.155403\n",
      "min         5.000000\n",
      "25%        19.000000\n",
      "50%        38.000000\n",
      "75%        66.000000\n",
      "max        97.000000\n",
      "Name: word_count, dtype: float64\n",
      "\n",
      "Word Count Stats Per Label:\n",
      "        count       mean        std  min    25%   50%   75%   max\n",
      "label                                                           \n",
      "0      427.0  44.290398  25.406830  6.0  20.00  37.0  66.0  94.0\n",
      "1      391.0  43.404092  26.651606  6.0  19.00  34.0  67.0  93.0\n",
      "2      396.0  48.121212  23.015690  6.0  34.00  43.0  67.0  95.0\n",
      "3      386.0  39.259067  24.709959  5.0  15.25  36.0  59.0  97.0\n",
      "\n",
      "Sample cleaned rows:\n",
      "                                                text  label  word_count\n",
      "0  There's a huge pothole right in the middle of ...      0          46\n",
      "1  The garbage collection vehicle has not come to...      1          45\n",
      "2  We are experiencing frequent and unscheduled p...      3          39\n",
      "3  The children's play area in the local communit...      2          41\n",
      "4  The traffic signal at the crossing of Nehru Ro...      0          36\n"
     ]
    }
   ],
   "source": [
    "import pandas as pd\n",
    "\n",
    "# Load dataset\n",
    "df = pd.read_csv(\"dataset.csv\")\n",
    "\n",
    "# Ensure consistent column names\n",
    "df = df.rename(columns={\"description\": \"text\", \"category\": \"label\"})\n",
    "\n",
    "# --- Clean text column ---\n",
    "df['text'] = df['text'].astype(str).str.strip('\"').str.strip(\"'\").str.strip()\n",
    "\n",
    "# --- Word count after cleaning ---\n",
    "df['word_count'] = df['text'].apply(lambda x: len(x.split()))\n",
    "\n",
    "# --- Analysis ---\n",
    "print(\"Total rows:\", len(df))\n",
    "print(\"\\nCounts per label:\\n\", df['label'].value_counts().sort_index())\n",
    "print(\"\\nWord Count Stats Overall:\\n\", df['word_count'].describe())\n",
    "print(\"\\nWord Count Stats Per Label:\\n\", df.groupby('label')['word_count'].describe())\n",
    "\n",
    "# --- Preview cleaned data ---\n",
    "print(\"\\nSample cleaned rows:\")\n",
    "print(df[['text', 'label', 'word_count']].head())\n"
   ]
  },
  {
   "cell_type": "code",
   "execution_count": 26,
   "id": "eb1b91d1-5fc1-4f63-92d6-e90d1be9fb7a",
   "metadata": {},
   "outputs": [],
   "source": [
    "df.to_csv(\"dataset_cleaned.csv\", index=False)"
   ]
  },
  {
   "cell_type": "code",
   "execution_count": 27,
   "id": "47772d88-c5c3-443f-b441-08d96385aa56",
   "metadata": {},
   "outputs": [
    {
     "name": "stdout",
     "output_type": "stream",
     "text": [
      "NaN counts per column:\n",
      " text          0\n",
      "label         0\n",
      "word_count    0\n",
      "dtype: int64\n",
      "\n",
      "Total NaN values in dataset: 0\n",
      "\n",
      "Rows with NaNs (first 5 rows):\n",
      "Empty DataFrame\n",
      "Columns: [text, label, word_count]\n",
      "Index: []\n"
     ]
    }
   ],
   "source": [
    "import pandas as pd\n",
    "\n",
    "# Load cleaned dataset\n",
    "df = pd.read_csv(\"dataset_cleaned.csv\")\n",
    "\n",
    "# Total NaNs in each column\n",
    "nan_counts = df.isna().sum()\n",
    "print(\"NaN counts per column:\\n\", nan_counts)\n",
    "\n",
    "# Total NaNs in entire dataset\n",
    "total_nans = df.isna().sum().sum()\n",
    "print(\"\\nTotal NaN values in dataset:\", total_nans)\n",
    "\n",
    "# Optional: show rows with any NaNs\n",
    "rows_with_nans = df[df.isna().any(axis=1)]\n",
    "print(\"\\nRows with NaNs (first 5 rows):\")\n",
    "print(rows_with_nans.head())\n"
   ]
  },
  {
   "cell_type": "code",
   "execution_count": null,
   "id": "817e2ab9-3ad0-44b8-8fdb-a267e66e25c0",
   "metadata": {},
   "outputs": [],
   "source": []
  }
 ],
 "metadata": {
  "kernelspec": {
   "display_name": "Python 3 (ipykernel)",
   "language": "python",
   "name": "python3"
  },
  "language_info": {
   "codemirror_mode": {
    "name": "ipython",
    "version": 3
   },
   "file_extension": ".py",
   "mimetype": "text/x-python",
   "name": "python",
   "nbconvert_exporter": "python",
   "pygments_lexer": "ipython3",
   "version": "3.9.23"
  }
 },
 "nbformat": 4,
 "nbformat_minor": 5
}
