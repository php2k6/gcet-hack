{
 "cells": [
  {
   "cell_type": "code",
   "execution_count": 1,
   "id": "35e850de-366f-4148-9a4a-7f07f5a44549",
   "metadata": {},
   "outputs": [],
   "source": [
    "import pandas as pd\n",
    "from sklearn.model_selection import train_test_split\n",
    "\n",
    "# Load dataset\n",
    "df = pd.read_csv(\"dataset_cleaned.csv\")\n",
    "\n",
    "# X = complaint descriptions, y = already encoded labels\n",
    "X = df[\"text\"].tolist()\n",
    "y = df[\"label\"].values\n",
    "\n",
    "# Train-test split (80/20 split is common)\n",
    "X_train, X_test, y_train, y_test = train_test_split(\n",
    "    X, y, test_size=0.2, random_state=42, stratify=y\n",
    ")"
   ]
  },
  {
   "cell_type": "code",
   "execution_count": 2,
   "id": "308d631d-00f0-4cab-8aa2-91b53f7405a7",
   "metadata": {},
   "outputs": [
    {
     "name": "stderr",
     "output_type": "stream",
     "text": [
      "C:\\Users\\Admin\\anaconda3\\envs\\tf\\lib\\site-packages\\tqdm\\auto.py:21: TqdmWarning: IProgress not found. Please update jupyter and ipywidgets. See https://ipywidgets.readthedocs.io/en/stable/user_install.html\n",
      "  from .autonotebook import tqdm as notebook_tqdm\n",
      "Some weights of RobertaModel were not initialized from the model checkpoint at roberta-base and are newly initialized: ['pooler.dense.bias', 'pooler.dense.weight']\n",
      "You should probably TRAIN this model on a down-stream task to be able to use it for predictions and inference.\n"
     ]
    },
    {
     "name": "stdout",
     "output_type": "stream",
     "text": [
      "torch.Size([1, 8])\n"
     ]
    }
   ],
   "source": [
    "from transformers import RobertaTokenizer, RobertaModel\n",
    "import torch\n",
    "\n",
    "# Load tokenizer and model\n",
    "tokenizer = RobertaTokenizer.from_pretrained(\"roberta-base\")\n",
    "roberta = RobertaModel.from_pretrained(\"roberta-base\")\n",
    "\n",
    "# Example encoding\n",
    "sample = tokenizer(\"This is a complaint about service\", \n",
    "                   return_tensors=\"pt\", \n",
    "                   truncation=True, \n",
    "                   padding=True, \n",
    "                   max_length=128)\n",
    "\n",
    "print(sample[\"input_ids\"].shape)  # (1, seq_len)\n"
   ]
  },
  {
   "cell_type": "code",
   "execution_count": 3,
   "id": "11df71b7-d103-47eb-96c2-0594fb4f70bc",
   "metadata": {},
   "outputs": [],
   "source": [
    "def get_embeddings(texts, batch_size=16):\n",
    "    embeddings = []\n",
    "    roberta.eval()\n",
    "    with torch.no_grad():\n",
    "        for i in range(0, len(texts), batch_size):\n",
    "            batch = texts[i:i+batch_size]\n",
    "            encodings = tokenizer(batch, return_tensors=\"pt\",\n",
    "                                  truncation=True, padding=True, max_length=128)\n",
    "            outputs = roberta(**encodings)\n",
    "            cls_embeddings = outputs.last_hidden_state[:, 0, :]  # shape: (batch, hidden_size)\n",
    "            embeddings.append(cls_embeddings)\n",
    "    return torch.cat(embeddings).numpy()"
   ]
  },
  {
   "cell_type": "code",
   "execution_count": 4,
   "id": "1c665ab4-2125-466c-9931-64083a728bf8",
   "metadata": {},
   "outputs": [
    {
     "name": "stdout",
     "output_type": "stream",
     "text": [
      "(1280, 768)\n"
     ]
    },
    {
     "data": {
      "text/plain": [
       "numpy.ndarray"
      ]
     },
     "execution_count": 4,
     "metadata": {},
     "output_type": "execute_result"
    }
   ],
   "source": [
    "X_train_em = get_embeddings(X_train)\n",
    "X_test_em = get_embeddings(X_test)\n",
    "print(X_train_em.shape)  # (num_samples, hidden_size)\n",
    "type(X_train_em)"
   ]
  },
  {
   "cell_type": "code",
   "execution_count": 5,
   "id": "c0318eee-fa1e-4d62-9f39-04cb0964c663",
   "metadata": {},
   "outputs": [
    {
     "name": "stdout",
     "output_type": "stream",
     "text": [
      "4\n",
      "Model: \"sequential\"\n",
      "_________________________________________________________________\n",
      " Layer (type)                Output Shape              Param #   \n",
      "=================================================================\n",
      " dropout (Dropout)           (None, 768)               0         \n",
      "                                                                 \n",
      " dense (Dense)               (None, 256)               196864    \n",
      "                                                                 \n",
      " dropout_1 (Dropout)         (None, 256)               0         \n",
      "                                                                 \n",
      " dense_1 (Dense)             (None, 128)               32896     \n",
      "                                                                 \n",
      " dense_2 (Dense)             (None, 4)                 516       \n",
      "                                                                 \n",
      "=================================================================\n",
      "Total params: 230,276\n",
      "Trainable params: 230,276\n",
      "Non-trainable params: 0\n",
      "_________________________________________________________________\n"
     ]
    }
   ],
   "source": [
    "import tensorflow as tf\n",
    "from tensorflow.keras import layers, models\n",
    "\n",
    "num_classes = len(set(y))\n",
    "print(num_classes)\n",
    "model = models.Sequential([\n",
    "    layers.Input(shape=(768,)),\n",
    "    layers.Dropout(0.3),\n",
    "    layers.Dense(256, activation=\"relu\"),\n",
    "    layers.Dropout(0.3),\n",
    "    layers.Dense(128, activation=\"relu\"),\n",
    "    layers.Dense(num_classes, activation=\"softmax\")\n",
    "])\n",
    "\n",
    "model.compile(optimizer=\"adam\",\n",
    "              loss=\"sparse_categorical_crossentropy\",\n",
    "              metrics=[\"accuracy\"])\n",
    "\n",
    "model.summary()"
   ]
  },
  {
   "cell_type": "code",
   "execution_count": 7,
   "id": "400d3211-8a58-4e3d-8528-b626716d923e",
   "metadata": {},
   "outputs": [
    {
     "name": "stdout",
     "output_type": "stream",
     "text": [
      "Epoch 1/15\n",
      "40/40 [==============================] - 0s 3ms/step - loss: 1.3292 - accuracy: 0.3820\n",
      "Epoch 2/15\n",
      "40/40 [==============================] - 0s 3ms/step - loss: 0.9363 - accuracy: 0.6758\n",
      "Epoch 3/15\n",
      "40/40 [==============================] - 0s 2ms/step - loss: 0.4979 - accuracy: 0.8523\n",
      "Epoch 4/15\n",
      "40/40 [==============================] - 0s 2ms/step - loss: 0.3058 - accuracy: 0.8984\n",
      "Epoch 5/15\n",
      "40/40 [==============================] - 0s 2ms/step - loss: 0.2322 - accuracy: 0.9172\n",
      "Epoch 6/15\n",
      "40/40 [==============================] - 0s 2ms/step - loss: 0.2112 - accuracy: 0.9227\n",
      "Epoch 7/15\n",
      "40/40 [==============================] - 0s 2ms/step - loss: 0.2087 - accuracy: 0.9187\n",
      "Epoch 8/15\n",
      "40/40 [==============================] - 0s 2ms/step - loss: 0.1915 - accuracy: 0.9281\n",
      "Epoch 9/15\n",
      "40/40 [==============================] - 0s 2ms/step - loss: 0.1728 - accuracy: 0.9398\n",
      "Epoch 10/15\n",
      "40/40 [==============================] - 0s 2ms/step - loss: 0.1637 - accuracy: 0.9469\n",
      "Epoch 11/15\n",
      "40/40 [==============================] - 0s 2ms/step - loss: 0.1633 - accuracy: 0.9438\n",
      "Epoch 12/15\n",
      "40/40 [==============================] - 0s 2ms/step - loss: 0.1775 - accuracy: 0.9391\n",
      "Epoch 13/15\n",
      "40/40 [==============================] - 0s 2ms/step - loss: 0.1396 - accuracy: 0.9469\n",
      "Epoch 14/15\n",
      "40/40 [==============================] - 0s 2ms/step - loss: 0.1435 - accuracy: 0.9500\n",
      "Epoch 15/15\n",
      "40/40 [==============================] - 0s 2ms/step - loss: 0.1491 - accuracy: 0.9516\n"
     ]
    }
   ],
   "source": [
    "history = model.fit(\n",
    "    X_train_em, y_train,\n",
    "    epochs=15\n",
    ")"
   ]
  },
  {
   "cell_type": "code",
   "execution_count": 8,
   "id": "c7dd15ef-e266-42a4-b5f6-6884b4efd65d",
   "metadata": {},
   "outputs": [
    {
     "name": "stdout",
     "output_type": "stream",
     "text": [
      "10/10 [==============================] - 0s 4ms/step - loss: 0.1480 - accuracy: 0.9500\n",
      "Test Accuracy: 0.9500\n"
     ]
    }
   ],
   "source": [
    "loss, acc = model.evaluate(X_test_em, y_test)\n",
    "print(f\"Test Accuracy: {acc:.4f}\")\n"
   ]
  },
  {
   "cell_type": "code",
   "execution_count": 9,
   "id": "9244ff0c-a083-4ba9-a657-6a36f4a7712a",
   "metadata": {},
   "outputs": [],
   "source": [
    "sample_text = [\"public isse bus not coming late late\"]"
   ]
  },
  {
   "cell_type": "code",
   "execution_count": 10,
   "id": "d82ee8bc-8771-48e6-8398-22312a3ed879",
   "metadata": {},
   "outputs": [
    {
     "name": "stdout",
     "output_type": "stream",
     "text": [
      "1/1 [==============================] - 0s 76ms/step\n",
      "Predicted class: [[ 4.14604   59.75931    1.3531185 34.741528 ]]\n",
      "Predicted class: [1]\n"
     ]
    }
   ],
   "source": [
    "import numpy as np\n",
    "\n",
    "sample_em = get_embeddings(sample_text)\n",
    "\n",
    "pred = model.predict(sample_em)\n",
    "pred = pred* 100\n",
    "pred_label = np.argmax(pred, axis=1)\n",
    "\n",
    "print(\"Predicted class:\", pred)\n",
    "print(\"Predicted class:\", pred_label)"
   ]
  },
  {
   "cell_type": "code",
   "execution_count": 11,
   "id": "a892397b-7ba9-4a6b-9e98-aea0ae0509ef",
   "metadata": {},
   "outputs": [],
   "source": [
    "model.save(\"model_new.h5\")"
   ]
  },
  {
   "cell_type": "code",
   "execution_count": null,
   "id": "ecef021c-4eb8-482b-9c35-d7a7061fb0a0",
   "metadata": {},
   "outputs": [],
   "source": []
  }
 ],
 "metadata": {
  "kernelspec": {
   "display_name": "Python 3 (ipykernel)",
   "language": "python",
   "name": "python3"
  },
  "language_info": {
   "codemirror_mode": {
    "name": "ipython",
    "version": 3
   },
   "file_extension": ".py",
   "mimetype": "text/x-python",
   "name": "python",
   "nbconvert_exporter": "python",
   "pygments_lexer": "ipython3",
   "version": "3.9.23"
  }
 },
 "nbformat": 4,
 "nbformat_minor": 5
}
